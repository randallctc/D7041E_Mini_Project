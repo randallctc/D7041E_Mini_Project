{
 "cells": [
  {
   "cell_type": "markdown",
   "metadata": {},
   "source": [
    "# Mini Project"
   ]
  },
  {
   "cell_type": "markdown",
   "metadata": {},
   "source": [
    "#### Introduction"
   ]
  },
  {
   "cell_type": "markdown",
   "metadata": {},
   "source": [
    "Our mini project will focus on these UCI machine learning datasets:\n",
    "<br>\n",
    "\n",
    "1) Abalone\n",
    "<br>\n",
    "2) Bank Marketing\n",
    "<br>\n",
    "3) Car\n",
    "<br>\n",
    "4) Mushrooms\n",
    "<br>\n",
    "5) Wine Quality\n",
    "<br>\n",
    "\n",
    "The models we will be using to train on each dataset are the unsupervised K-Means clustering algorithm and the supervised logistic regression classification model."
   ]
  },
  {
   "cell_type": "markdown",
   "metadata": {},
   "source": [
    "#### Results"
   ]
  },
  {
   "cell_type": "markdown",
   "metadata": {},
   "source": [
    "Abalone:"
   ]
  },
  {
   "cell_type": "markdown",
   "metadata": {},
   "source": [
    "Bank Marketing:\n",
    "\n",
    "- Supervised = 0.92925\n",
    "    - Classification Report\n",
    "        - Overall Accuracy = 0.92925\n",
    "        - Precision of 0 = 0.97\n",
    "        - Precision of 1 = 0.41\n",
    "        - Recall of 0 = 0.96\n",
    "        - Recall of 1 = 0.50\n",
    "        - F1-Score of 0 = 0.96\n",
    "        - F1-Score of 1 = 0.45\n",
    "        - Support of 0 = 29807\n",
    "        - Support of 1 = 1840\n",
    "\n",
    "- Unsupervised = 0.65371\n",
    "    - Classification Report\n",
    "        - Overall Accuracy = 0.65371\n",
    "        - Precision of 0 = 0.95\n",
    "        - Precision of 1 = 0.07\n",
    "        - Recall of 0 = 0.69\n",
    "        - Recall of 1 = 0.02\n",
    "        - F1-Score of 0 = 0.80\n",
    "        - F1-Score of 1 = 0.03\n",
    "        - Support of 0 = 29807\n",
    "        - Support of 1 = 1840\n",
    "    - Also has an additional 5 other clustering results since unsupervised learning does not usually produce binary results, but all yield a result of 0\n",
    "\n",
    "- From these results, we can see that supervised learning is more effective for binary classification tasks compared to unsupervised learning"
   ]
  },
  {
   "cell_type": "markdown",
   "metadata": {},
   "source": [
    "Car:"
   ]
  },
  {
   "cell_type": "markdown",
   "metadata": {},
   "source": [
    "Mushrooms:\n",
    "\n",
    "- Supervised = 0.92925\n",
    "    - Classification Report\n",
    "        - Overall Accuracy = 48558\n",
    "        - Precision of 0 = 0.97\n",
    "        - Precision of 1 = 0.42\n",
    "        - Recall of 0 = 0.19\n",
    "        - Recall of 1 = 0.99\n",
    "        - F1-Score of 0 = 0.32\n",
    "        - F1-Score of 1 = 0.59\n",
    "        - Support of 0 = 3598\n",
    "        - Support of 1 = 2088\n",
    "\n",
    "- Unsupervised = 0.65371\n",
    "    - Classification Report\n",
    "        - Overall Accuracy = 0.44636\n",
    "        - Precision of 0 = 0.56\n",
    "        - Precision of 1 = 1.00\n",
    "        - Recall of 0 = 0.68\n",
    "        - Recall of 1 = 0.04\n",
    "        - F1-Score of 0 = 0.61\n",
    "        - F1-Score of 1 = 0.08\n",
    "        - Support of 0 = 3598\n",
    "        - Support of 1 = 2088\n",
    "    - Also has an additional 4 other clustering results since unsupervised learning does not usually produce binary results, but all yield a result of 0\n",
    "\n",
    "- From these results, we can see that supervised learning is more effective for binary classification tasks compared to unsupervised learning"
   ]
  },
  {
   "cell_type": "markdown",
   "metadata": {},
   "source": [
    "Wine Quality:"
   ]
  },
  {
   "cell_type": "markdown",
   "metadata": {},
   "source": [
    "#### Conclusion"
   ]
  },
  {
   "cell_type": "markdown",
   "metadata": {},
   "source": [
    "Based on the models created from the 5 datasets, it can be determined that unsupervised models performed much poorer than the supervised ones."
   ]
  }
 ],
 "metadata": {
  "language_info": {
   "name": "python"
  }
 },
 "nbformat": 4,
 "nbformat_minor": 2
}
