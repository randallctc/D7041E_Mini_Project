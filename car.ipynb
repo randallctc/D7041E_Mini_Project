{
 "cells": [
  {
   "cell_type": "markdown",
   "metadata": {},
   "source": [
    "## Importing UCIML Car Dataset"
   ]
  },
  {
   "cell_type": "code",
   "execution_count": 53,
   "metadata": {},
   "outputs": [],
   "source": [
    "from ucimlrepo import fetch_ucirepo\n",
    "import pandas as pd\n",
    "from sklearn.preprocessing import LabelEncoder, StandardScaler\n",
    "from sklearn.model_selection import train_test_split\n",
    "from sklearn.cluster import KMeans\n",
    "from sklearn.linear_model import LogisticRegression\n",
    "from sklearn.metrics import adjusted_rand_score, accuracy_score"
   ]
  },
  {
   "cell_type": "code",
   "execution_count": 54,
   "metadata": {},
   "outputs": [],
   "source": [
    "cars = fetch_ucirepo(id=19) \n",
    "X = cars.data.features \n",
    "y = cars.data.targets "
   ]
  },
  {
   "cell_type": "code",
   "execution_count": 55,
   "metadata": {},
   "outputs": [
    {
     "name": "stdout",
     "output_type": "stream",
     "text": [
      "     buying  maint  doors persons lug_boot safety\n",
      "0     vhigh  vhigh      2       2    small    low\n",
      "1     vhigh  vhigh      2       2    small    med\n",
      "2     vhigh  vhigh      2       2    small   high\n",
      "3     vhigh  vhigh      2       2      med    low\n",
      "4     vhigh  vhigh      2       2      med    med\n",
      "...     ...    ...    ...     ...      ...    ...\n",
      "1723    low    low  5more    more      med    med\n",
      "1724    low    low  5more    more      med   high\n",
      "1725    low    low  5more    more      big    low\n",
      "1726    low    low  5more    more      big    med\n",
      "1727    low    low  5more    more      big   high\n",
      "\n",
      "[1728 rows x 6 columns]\n"
     ]
    }
   ],
   "source": [
    "print(X)"
   ]
  },
  {
   "cell_type": "code",
   "execution_count": 56,
   "metadata": {},
   "outputs": [
    {
     "name": "stdout",
     "output_type": "stream",
     "text": [
      "      class\n",
      "0     unacc\n",
      "1     unacc\n",
      "2     unacc\n",
      "3     unacc\n",
      "4     unacc\n",
      "...     ...\n",
      "1723   good\n",
      "1724  vgood\n",
      "1725  unacc\n",
      "1726   good\n",
      "1727  vgood\n",
      "\n",
      "[1728 rows x 1 columns]\n"
     ]
    }
   ],
   "source": [
    "print(y)"
   ]
  },
  {
   "cell_type": "markdown",
   "metadata": {},
   "source": [
    "## Pre-Processing Of Data"
   ]
  },
  {
   "cell_type": "code",
   "execution_count": 78,
   "metadata": {},
   "outputs": [
    {
     "name": "stdout",
     "output_type": "stream",
     "text": [
      "Dynamic Mapping: {0: 'acc', 1: 'good', 2: 'unacc', 3: 'vgood'}\n",
      "Class Mapping (Updated): {0: 'acc', 1: 'good', 2: 'unacc', 3: 'vgood'}\n"
     ]
    },
    {
     "name": "stderr",
     "output_type": "stream",
     "text": [
      "c:\\Users\\mysto\\AppData\\Local\\Programs\\Python\\Python313\\Lib\\site-packages\\sklearn\\preprocessing\\_label.py:114: DataConversionWarning: A column-vector y was passed when a 1d array was expected. Please change the shape of y to (n_samples, ), for example using ravel().\n",
      "  y = column_or_1d(y, warn=True)\n"
     ]
    }
   ],
   "source": [
    "def preprocess_car_evaluation(X, y):\n",
    "    # Encode categorical features and target variable\n",
    "    X_encoded = pd.get_dummies(X)  # One-hot encoding for features\n",
    "    le = LabelEncoder()\n",
    "    y_encoded = le.fit_transform(y)  # Encode target\n",
    "    \n",
    "    # Dynamically create a consistent class mapping\n",
    "    dynamic_mapping = {index: label for index, label in enumerate(le.classes_)}\n",
    "    \n",
    "    # Standardize features\n",
    "    scaler = StandardScaler()\n",
    "    X_scaled = scaler.fit_transform(X_encoded)\n",
    "    \n",
    "    return X_scaled, y_encoded, dynamic_mapping\n",
    "\n",
    "# Fetch and preprocess the data\n",
    "X_preprocessed, y_preprocessed, dynamic_mapping = preprocess_car_evaluation(X, y)\n",
    "\n",
    "# Overwrite predefined class_mapping dynamically to match LabelEncoder\n",
    "class_mapping = dynamic_mapping\n",
    "\n",
    "# Print mappings to confirm consistency\n",
    "print(\"Dynamic Mapping:\", dynamic_mapping)\n",
    "print(\"Class Mapping (Updated):\", class_mapping)\n"
   ]
  },
  {
   "cell_type": "markdown",
   "metadata": {},
   "source": [
    "## Unsupervised Learning : K-Means Clustering"
   ]
  },
  {
   "cell_type": "code",
   "execution_count": 79,
   "metadata": {},
   "outputs": [],
   "source": [
    "# Step 3: K-Means Clustering Function\n",
    "def kmeans_clustering(X, y):\n",
    "    # Perform K-Means Clustering\n",
    "    kmeans = KMeans(n_clusters=len(set(y)), init='k-means++', random_state=42)\n",
    "    y_pred = kmeans.fit_predict(X)\n",
    "    \n",
    "    # Evaluate clustering performance\n",
    "    ari = adjusted_rand_score(y, y_pred)\n",
    "    silhouette = silhouette_score(X, y_pred)\n",
    "    \n",
    "    return kmeans, y_pred, ari, silhouette"
   ]
  },
  {
   "cell_type": "code",
   "execution_count": 80,
   "metadata": {},
   "outputs": [],
   "source": [
    "# Step 4: Apply K-Means and Evaluate\n",
    "kmeans, kmeans_labels, kmeans_ari, kmeans_silhouette = kmeans_clustering(X_preprocessed, y_preprocessed)"
   ]
  },
  {
   "cell_type": "code",
   "execution_count": 81,
   "metadata": {},
   "outputs": [
    {
     "name": "stdout",
     "output_type": "stream",
     "text": [
      "K-Means Clustering (Unsupervised) ARI: 0.000729652868196255\n"
     ]
    }
   ],
   "source": [
    "# Step 5: Print Results\n",
    "print(\"K-Means Clustering (Unsupervised) ARI:\", kmeans_ari)"
   ]
  },
  {
   "cell_type": "markdown",
   "metadata": {},
   "source": [
    "## Supervised Learning - Logistic Regression"
   ]
  },
  {
   "cell_type": "code",
   "execution_count": 82,
   "metadata": {},
   "outputs": [],
   "source": [
    "from sklearn.metrics import classification_report, confusion_matrix\n",
    "\n",
    "\n",
    "def logistic_regression(X, y):\n",
    "    # Split into training and test sets\n",
    "    X_train, X_test, y_train, y_test = train_test_split(X, y, test_size=0.3, random_state=42)\n",
    "    \n",
    "    # Train logistic regression model\n",
    "    clf = LogisticRegression(random_state=42, max_iter=500)\n",
    "    clf.fit(X_train, y_train)\n",
    "    \n",
    "    # Predict and evaluate\n",
    "    y_pred = clf.predict(X_test)\n",
    "    acc = accuracy_score(y_test, y_pred)\n",
    "    report = classification_report(y_test, y_pred, output_dict=True)\n",
    "    confusion = confusion_matrix(y_test, y_pred)\n",
    "    \n",
    "    return clf, acc, report, confusion, X_train, X_test, y_train, y_test"
   ]
  },
  {
   "cell_type": "code",
   "execution_count": 83,
   "metadata": {},
   "outputs": [
    {
     "name": "stdout",
     "output_type": "stream",
     "text": [
      "Logistic Regression Accuracy: 0.928709055876686\n"
     ]
    }
   ],
   "source": [
    "# Call the function and get outputs\n",
    "clf, logistic_accuracy, logistic_report, logistic_confusion, X_train, X_test, y_train, y_test = logistic_regression(X_preprocessed, y_preprocessed)\n",
    "\n",
    "# Print results\n",
    "print(\"Logistic Regression Accuracy:\", logistic_accuracy)"
   ]
  },
  {
   "cell_type": "code",
   "execution_count": 84,
   "metadata": {},
   "outputs": [
    {
     "data": {
      "image/png": "[encoded data removed]",
      "text/plain": [
       "<Figure size 800x600 with 2 Axes>"
      ]
     },
     "metadata": {},
     "output_type": "display_data"
    }
   ],
   "source": [
    "# Step 6: Visualize Confusion Matrix\n",
    "def plot_confusion_matrix(confusion, class_names):\n",
    "    plt.figure(figsize=(8, 6))\n",
    "    sns.heatmap(confusion, annot=True, fmt='d', cmap='Blues', xticklabels=class_names, yticklabels=class_names)\n",
    "    plt.title(\"Confusion Matrix\")\n",
    "    plt.xlabel(\"Predicted\")\n",
    "    plt.ylabel(\"Actual\")\n",
    "    plt.show()\n",
    "\n",
    "plot_confusion_matrix(logistic_confusion, list(class_mapping.values()))"
   ]
  },
  {
   "cell_type": "code",
   "execution_count": 85,
   "metadata": {},
   "outputs": [
    {
     "name": "stdout",
     "output_type": "stream",
     "text": [
      "Logistic Regression (Supervised) Accuracy: 0.928709055876686\n",
      "Classification Report (Logistic Regression):\n",
      "              precision    recall  f1-score     support\n",
      "0              0.862069  0.847458  0.854701  118.000000\n",
      "1              0.650000  0.684211  0.666667   19.000000\n",
      "2              0.971989  0.969274  0.970629  358.000000\n",
      "3              0.846154  0.916667  0.880000   24.000000\n",
      "accuracy       0.928709  0.928709  0.928709    0.928709\n",
      "macro avg      0.832553  0.854402  0.842999  519.000000\n",
      "weighted avg   0.929391  0.928709  0.928953  519.000000\n"
     ]
    }
   ],
   "source": [
    "print(f\"Logistic Regression (Supervised) Accuracy: {logistic_accuracy}\")\n",
    "print(\"Classification Report (Logistic Regression):\")\n",
    "print(pd.DataFrame(logistic_report).transpose())"
   ]
  },
  {
   "cell_type": "markdown",
   "metadata": {},
   "source": [
    "## Final Comments"
   ]
  },
  {
   "cell_type": "markdown",
   "metadata": {},
   "source": [
    "The Car Evaluation dataset was analyzed using both unsupervised and supervised learning methods. The unsupervised learning model, K-Means Clustering, produced an Adjusted Rand Index (ARI) of **0.0007**. These results indicate that the clusters formed by K-Means do not align well with the true class labels, and the clustering quality is poor. This is likely due to the categorical nature of the dataset and the limitations of using Euclidean distance in K-Means after one-hot encoding. The dataset does not exhibit natural clusters, making K-Means unsuitable for this task.\n",
    "\n",
    "In contrast, the supervised learning model, Logistic Regression, achieved an overall accuracy of **92.87%**, demonstrating strong performance. The model effectively classified the majority classes (good and unacc), achieving high precision and recall for these categories. The minority classes (acc and vgood) were more challenging to classify, with lower precision and recall due to their smaller sample sizes and potential feature overlap. For example, the acc class achieved a precision of **65%** and a recall of **68.4%**, reflecting some misclassification issues. Despite this, the model maintained a balanced performance across all classes, as evidenced by a macro F1-score of **84.3%** and a weighted F1-score of **92.9%**.\n",
    "\n",
    "Overall, Logistic Regression significantly outperformed K-Means Clustering for this dataset, demonstrating that the structured and categorical nature of the data is better suited to supervised learning methods. Addressing class imbalance or exploring clustering algorithms tailored for categorical data, such as K-Prototypes, could further improve performance."
   ]
  },
  {
   "cell_type": "markdown",
   "metadata": {},
   "source": []
  }
 ],
 "metadata": {
  "kernelspec": {
   "display_name": "Python 3",
   "language": "python",
   "name": "python3"
  },
  "language_info": {
   "codemirror_mode": {
    "name": "ipython",
    "version": 3
   },
   "file_extension": ".py",
   "mimetype": "text/x-python",
   "name": "python",
   "nbconvert_exporter": "python",
   "pygments_lexer": "ipython3",
   "version": "3.13.0"
  }
 },
 "nbformat": 4,
 "nbformat_minor": 2
}
